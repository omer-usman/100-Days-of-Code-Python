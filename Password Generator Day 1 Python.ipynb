{
 "cells": [
  {
   "cell_type": "code",
   "execution_count": 15,
   "id": "a0867349",
   "metadata": {
    "scrolled": false
   },
   "outputs": [
    {
     "name": "stdout",
     "output_type": "stream",
     "text": [
      "To Generate a Password, We need some of your details.\n",
      "Name:omer\n",
      "Age:22\n",
      "Pet Name:milo\n",
      "Country Name:pak\n",
      "Date Of Birth(25/5/2001):25\n",
      "Your First School:mezan\n",
      "Password Size:8\n",
      "pakomer222525milo22milo\n",
      "mai2o25p\n",
      "a2mp5ipp\n",
      "pp2p5im2\n",
      "ipp5mpp2\n",
      "2ppmpp2p\n",
      "pp2ppppp\n",
      "pp22p2pp\n",
      "pppp2222\n",
      "22pp2222\n"
     ]
    }
   ],
   "source": [
    "import random\n",
    "print(\"To Generate a Password, We need some of your details.\")\n",
    "name=input(\"Name:\")\n",
    "age=input(\"Age:\")\n",
    "pet=input(\"Pet Name:\")\n",
    "country=input(\"Country Name:\")\n",
    "DOB=input(\"Date Of Birth(25/5/2001):\")\n",
    "School=input(\"Your First School:\")\n",
    "password=name,age,pet,country,DOB,School\n",
    "length = int(input(\"Password Size:\"))\n",
    "for i in range(10):\n",
    "    password=''.join(random.choice(password) for i in range (length))\n",
    "    print(password)"
   ]
  },
  {
   "cell_type": "markdown",
   "id": "cdad631a",
   "metadata": {},
   "source": []
  },
  {
   "cell_type": "code",
   "execution_count": null,
   "id": "4e62975a",
   "metadata": {},
   "outputs": [],
   "source": []
  }
 ],
 "metadata": {
  "kernelspec": {
   "display_name": "Python 3 (ipykernel)",
   "language": "python",
   "name": "python3"
  },
  "language_info": {
   "codemirror_mode": {
    "name": "ipython",
    "version": 3
   },
   "file_extension": ".py",
   "mimetype": "text/x-python",
   "name": "python",
   "nbconvert_exporter": "python",
   "pygments_lexer": "ipython3",
   "version": "3.11.3"
  }
 },
 "nbformat": 4,
 "nbformat_minor": 5
}
