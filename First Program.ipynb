{
 "cells": [
  {
   "cell_type": "code",
   "execution_count": 21,
   "metadata": {},
   "outputs": [
    {
     "name": "stdout",
     "output_type": "stream",
     "text": [
      "Hi,\n",
      "My name is Omer and I am Good Student\n",
      "\n",
      "\n",
      "i,\n",
      "My name is Omer and I am Good Studen\n"
     ]
    }
   ],
   "source": [
    "Email=\"\"\"Hi,\n",
    "My name is Omer and I am Good Student\"\"\"\n",
    "print(Email)\n",
    "print(Email[3:4])\n",
    "another=Email[1:-1]\n",
    "print(another)"
   ]
  },
  {
   "cell_type": "code",
   "execution_count": 1,
   "metadata": {},
   "outputs": [
    {
     "name": "stdout",
     "output_type": "stream",
     "text": [
      "OMER USMAN IS A COODER.\n",
      "omer usman is a cooder.\n",
      "0\n",
      "Ali Usman is a cooder.\n",
      "<class 'str'>\n",
      "23\n",
      "True\n",
      "Omer Usman Is A Cooder.\n"
     ]
    }
   ],
   "source": [
    "first='Omer'\n",
    "last='Usman'\n",
    "msg= first+last+'is codder'\n",
    "msg=f'{first} {last} is a cooder.'\n",
    "print(msg.upper())\n",
    "print(msg.lower())\n",
    "print(msg.find('Omer'))\n",
    "print(msg.replace('Omer','Ali'))\n",
    "print(type(msg))\n",
    "print(len(msg))\n",
    "print('Usman' in msg)\n",
    "print(msg.title())"
   ]
  },
  {
   "cell_type": "code",
   "execution_count": 2,
   "metadata": {},
   "outputs": [
    {
     "name": "stdout",
     "output_type": "stream",
     "text": [
      "3\n"
     ]
    }
   ],
   "source": [
    "print(10//3)"
   ]
  },
  {
   "cell_type": "code",
   "execution_count": 13,
   "metadata": {},
   "outputs": [
    {
     "name": "stdout",
     "output_type": "stream",
     "text": [
      "Input Gender (F = Female/ M = Male)2\n",
      "Hight (cm):58\n",
      "Weight (kg):54\n",
      "Your BMI = 0.0\n"
     ]
    }
   ],
   "source": [
    "gender=input('Input Gender (F = Female/ M = Male)')\n",
    "hight=int(input(\"Hight (cm):\"))\n",
    "weight=int(input(\"Weight (kg):\"))\n",
    "hight=hight/10000\n",
    "print (\"Your BMI = \" + str(hight//weight))"
   ]
  },
  {
   "cell_type": "code",
   "execution_count": 19,
   "metadata": {},
   "outputs": [
    {
     "name": "stdout",
     "output_type": "stream",
     "text": [
      "0.33146067415730335\n"
     ]
    }
   ],
   "source": [
    "h=178\n",
    "w=59\n",
    "Bmi= w/h\n",
    "print(Bmi)"
   ]
  },
  {
   "cell_type": "code",
   "execution_count": 22,
   "metadata": {},
   "outputs": [
    {
     "name": "stdout",
     "output_type": "stream",
     "text": [
      "*\n",
      "**\n",
      "***\n",
      "****\n",
      "*****\n",
      "******\n",
      "*******\n",
      "********\n",
      "*********\n"
     ]
    }
   ],
   "source": [
    "i=1\n",
    "while i<10:\n",
    "    print('*'*i)\n",
    "    i+=1"
   ]
  },
  {
   "cell_type": "code",
   "execution_count": 27,
   "metadata": {},
   "outputs": [
    {
     "name": "stdout",
     "output_type": "stream",
     "text": [
      "Number:2\n",
      "Number:3\n",
      "Number:1\n",
      "u loss\n"
     ]
    }
   ],
   "source": [
    "guess = 9\n",
    "i=0\n",
    "while i<3:\n",
    "    a=int(input('Number:'))\n",
    "    i+=1\n",
    "    if guess==a:\n",
    "        print('U win')\n",
    "        break\n",
    "else:\n",
    "    print(\"u loss\")"
   ]
  },
  {
   "cell_type": "code",
   "execution_count": 36,
   "metadata": {},
   "outputs": [
    {
     "name": "stdout",
     "output_type": "stream",
     "text": [
      " type 'start'  -> start a car\n",
      "type 'stop' -> stop a car\n",
      "type 'quit' -> quit game\n",
      "What do want to do?dance\n",
      "Paata nhi kia type kr raha ho :)\n",
      "What do want to do?start\n",
      "car started\n",
      "What do want to do?start\n",
      "car started\n",
      "What do want to do?stop\n",
      "car stoped\n",
      "What do want to do?quit\n",
      "Paata nhi kia type kr raha ho :)\n",
      "Game exit\n"
     ]
    }
   ],
   "source": [
    "#car\n",
    "print(''' type 'start'  -> start a car\n",
    "type 'stop' -> stop a car\n",
    "type 'quit' -> quit game''')\n",
    "quit=''\n",
    "while quit != 'quit':\n",
    "    quit=input('What do want to do?')\n",
    "    if quit == 'start':\n",
    "        print('car started')\n",
    "        \n",
    "    elif quit == 'stop':\n",
    "        print ('car stoped')\n",
    "    else:\n",
    "        print('Paata nhi kia type kr raha ho :)')\n",
    "print('Game exit')\n",
    "    \n",
    "\n"
   ]
  },
  {
   "cell_type": "code",
   "execution_count": 45,
   "metadata": {},
   "outputs": [
    {
     "name": "stdout",
     "output_type": "stream",
     "text": [
      "python\n",
      "dog\n",
      "hero\n",
      "ans is more easy if u dont care\n"
     ]
    }
   ],
   "source": [
    "for x in ['python','dog','hero']:\n",
    "    print(x)\n",
    "    \n",
    "l=[1,2,3,5,\"ans is more easy if u dont care\"]\n",
    "print(l[-1])"
   ]
  },
  {
   "cell_type": "code",
   "execution_count": 61,
   "metadata": {},
   "outputs": [
    {
     "name": "stdout",
     "output_type": "stream",
     "text": [
      "3\n",
      "[10, [1, 2, 3], [4, 5, 6]]\n"
     ]
    }
   ],
   "source": [
    "matrix=[\n",
    "    [1,2,3],\n",
    "    [4,5,6]\n",
    "]\n",
    "print(matrix[0][2])\n",
    "matrix.insert([0][0],10)\n",
    "print(matrix)"
   ]
  },
  {
   "cell_type": "code",
   "execution_count": 63,
   "metadata": {},
   "outputs": [
    {
     "name": "stdout",
     "output_type": "stream",
     "text": [
      "63\n"
     ]
    }
   ],
   "source": [
    "#unpacking\n",
    "t=[2,56,5]\n",
    "x,y,z =t\n",
    "print(x+y+z)"
   ]
  },
  {
   "cell_type": "code",
   "execution_count": 84,
   "metadata": {},
   "outputs": [
    {
     "name": "stdout",
     "output_type": "stream",
     "text": [
      "None\n"
     ]
    }
   ],
   "source": [
    "#dictionaries\n",
    "car={\n",
    "    \"Name\":'Honda',\n",
    "    \"Mode\":2019,\n",
    "    \"Number\":'1244 LEX',\n",
    "}\n",
    "print(car.get('😂'))"
   ]
  },
  {
   "cell_type": "code",
   "execution_count": null,
   "metadata": {},
   "outputs": [],
   "source": []
  }
 ],
 "metadata": {
  "kernelspec": {
   "display_name": "Python 3 (ipykernel)",
   "language": "python",
   "name": "python3"
  },
  "language_info": {
   "codemirror_mode": {
    "name": "ipython",
    "version": 3
   },
   "file_extension": ".py",
   "mimetype": "text/x-python",
   "name": "python",
   "nbconvert_exporter": "python",
   "pygments_lexer": "ipython3",
   "version": "3.11.3"
  }
 },
 "nbformat": 4,
 "nbformat_minor": 2
}
