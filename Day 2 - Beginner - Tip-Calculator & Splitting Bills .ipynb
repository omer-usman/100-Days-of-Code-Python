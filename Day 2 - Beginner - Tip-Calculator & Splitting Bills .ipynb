{
 "cells": [
  {
   "cell_type": "code",
   "execution_count": 7,
   "id": "1dfb56f3",
   "metadata": {},
   "outputs": [
    {
     "name": "stdout",
     "output_type": "stream",
     "text": [
      "WELCOME TO THE TIP CALCULATOR & SPLITTING BILLS \n",
      "What was the total bill?124.56\n",
      "What percentage tip would you like to give?12\n",
      "How many people to split the bill?7\n",
      "19.93\n"
     ]
    }
   ],
   "source": [
    "print(\"\"\"WELCOME TO THE TIP CALCULATOR & SPLITTING BILLS \"\"\")\n",
    "bill = float(input('What was the total bill?'))\n",
    "tip=float(input('What percentage tip would you like to give?'))\n",
    "if tip>100 or tip<0:\n",
    "    print('''False input\n",
    "    Percentage neither cross 100 or can go below 0. Tip is set to 15%''')\n",
    "    tip=15\n",
    "tip=(bill/100)*tip\n",
    "bill=bill+tip\n",
    "split=float(input('How many people to split the bill?'))\n",
    "EachPerson=bill/split\n",
    "EachPerson=round(EachPerson,2)\n",
    "print(EachPerson)"
   ]
  },
  {
   "cell_type": "code",
   "execution_count": null,
   "id": "e1ce37b1",
   "metadata": {},
   "outputs": [],
   "source": []
  }
 ],
 "metadata": {
  "kernelspec": {
   "display_name": "Python 3 (ipykernel)",
   "language": "python",
   "name": "python3"
  },
  "language_info": {
   "codemirror_mode": {
    "name": "ipython",
    "version": 3
   },
   "file_extension": ".py",
   "mimetype": "text/x-python",
   "name": "python",
   "nbconvert_exporter": "python",
   "pygments_lexer": "ipython3",
   "version": "3.11.3"
  }
 },
 "nbformat": 4,
 "nbformat_minor": 5
}
